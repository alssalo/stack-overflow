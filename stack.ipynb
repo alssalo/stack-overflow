{
 "cells": [
  {
   "cell_type": "code",
   "execution_count": 12,
   "metadata": {},
   "outputs": [],
   "source": [
    "import pandas as pd\n",
    "import matplotlib.pyplot as plt\n",
    "import seaborn as sns\n",
    "import chardet"
   ]
  },
  {
   "cell_type": "code",
   "execution_count": 3,
   "metadata": {},
   "outputs": [],
   "source": [
    "import glob"
   ]
  },
  {
   "cell_type": "code",
   "execution_count": null,
   "metadata": {},
   "outputs": [],
   "source": [
    "#def load_files():\n",
    "#for file in (glob.glob(\"data/*.csv\")):\n",
    "        \n",
    "    \n",
    "    "
   ]
  },
  {
   "cell_type": "code",
   "execution_count": 26,
   "metadata": {},
   "outputs": [],
   "source": [
    "with open(\"data/2011 Stack Overflow Survey Results.csv\", 'rb') as f:\n",
    "    result_2011 = chardet.detect(f.read())\n",
    "\n",
    "with open(\"data/2012 Stack Overflow Survey Results.csv\", 'rb') as f:\n",
    "    result_2012 = chardet.detect(f.read())"
   ]
  },
  {
   "cell_type": "code",
   "execution_count": 17,
   "metadata": {},
   "outputs": [],
   "source": [
    "#pd.read_csv(\"data\\\\2011 Stack Overflow Survey Results.csv\" , encoding = result_2011['encoding'], low_memory=False)"
   ]
  },
  {
   "cell_type": "code",
   "execution_count": null,
   "metadata": {},
   "outputs": [],
   "source": []
  },
  {
   "cell_type": "code",
   "execution_count": 41,
   "metadata": {},
   "outputs": [],
   "source": [
    "data_2011 = pd.read_csv(\"data/2011 Stack Overflow Survey Results.csv\", encoding = result_2011['encoding'], low_memory=False)\n",
    "data_2012 = pd.read_csv(\"data/2012 Stack Overflow Survey Results.csv\", encoding = result_2012['encoding'], low_memory=False)\n",
    "data_2013 = pd.read_csv(\"data/2013 Stack Overflow Survey Results.csv\", low_memory=False)\n",
    "data_2014 = pd.read_csv(\"data/2014 Stack Overflow Survey Results.csv\", low_memory=False)\n",
    "data_2015 = pd.read_csv(\"data/2015 Stack Overflow Survey Results.csv\", header=1, low_memory=False)\n",
    "data_2016 = pd.read_csv(\"data/2016 Stack Overflow Survey Results.csv\", low_memory=False)"
   ]
  },
  {
   "cell_type": "code",
   "execution_count": 19,
   "metadata": {},
   "outputs": [],
   "source": [
    "data_2019 = pd.read_csv(\"data/2019 Stack Overflow Survey Results.csv\" , low_memory=False)\n",
    "data_2018 = pd.read_csv(\"data/2018 Stack Overflow Survey Results.csv\" , low_memory=False)\n",
    "data_2017 = pd.read_csv(\"data/2017 Stack Overflow Survey Results.csv\" , low_memory=False)"
   ]
  },
  {
   "cell_type": "markdown",
   "metadata": {},
   "source": [
    "# Popularity of programming languages over the years"
   ]
  },
  {
   "cell_type": "code",
   "execution_count": 295,
   "metadata": {},
   "outputs": [
    {
     "data": {
      "text/html": [
       "<div>\n",
       "<style scoped>\n",
       "    .dataframe tbody tr th:only-of-type {\n",
       "        vertical-align: middle;\n",
       "    }\n",
       "\n",
       "    .dataframe tbody tr th {\n",
       "        vertical-align: top;\n",
       "    }\n",
       "\n",
       "    .dataframe thead th {\n",
       "        text-align: right;\n",
       "    }\n",
       "</style>\n",
       "<table border=\"1\" class=\"dataframe\">\n",
       "  <thead>\n",
       "    <tr style=\"text-align: right;\">\n",
       "      <th></th>\n",
       "      <th>Language</th>\n",
       "      <th>Count</th>\n",
       "      <th>Year</th>\n",
       "    </tr>\n",
       "  </thead>\n",
       "  <tbody>\n",
       "    <tr>\n",
       "      <th>0</th>\n",
       "      <td>JavaScript</td>\n",
       "      <td>59219</td>\n",
       "      <td>2019</td>\n",
       "    </tr>\n",
       "    <tr>\n",
       "      <th>1</th>\n",
       "      <td>HTML/CSS</td>\n",
       "      <td>55466</td>\n",
       "      <td>2019</td>\n",
       "    </tr>\n",
       "    <tr>\n",
       "      <th>2</th>\n",
       "      <td>JavaScript</td>\n",
       "      <td>54686</td>\n",
       "      <td>2018</td>\n",
       "    </tr>\n",
       "    <tr>\n",
       "      <th>3</th>\n",
       "      <td>HTML/CSS</td>\n",
       "      <td>53628</td>\n",
       "      <td>2018</td>\n",
       "    </tr>\n",
       "    <tr>\n",
       "      <th>4</th>\n",
       "      <td>SQL</td>\n",
       "      <td>18466</td>\n",
       "      <td>2017</td>\n",
       "    </tr>\n",
       "    <tr>\n",
       "      <th>5</th>\n",
       "      <td>JavaScript</td>\n",
       "      <td>17159</td>\n",
       "      <td>2017</td>\n",
       "    </tr>\n",
       "    <tr>\n",
       "      <th>6</th>\n",
       "      <td>JavaScript</td>\n",
       "      <td>22606</td>\n",
       "      <td>2016</td>\n",
       "    </tr>\n",
       "    <tr>\n",
       "      <th>7</th>\n",
       "      <td>SQL</td>\n",
       "      <td>21664</td>\n",
       "      <td>2016</td>\n",
       "    </tr>\n",
       "    <tr>\n",
       "      <th>8</th>\n",
       "      <td>JavaScript</td>\n",
       "      <td>11962</td>\n",
       "      <td>2015</td>\n",
       "    </tr>\n",
       "    <tr>\n",
       "      <th>9</th>\n",
       "      <td>SQL</td>\n",
       "      <td>9439</td>\n",
       "      <td>2015</td>\n",
       "    </tr>\n",
       "    <tr>\n",
       "      <th>10</th>\n",
       "      <td>JavaScript</td>\n",
       "      <td>3784</td>\n",
       "      <td>2014</td>\n",
       "    </tr>\n",
       "    <tr>\n",
       "      <th>11</th>\n",
       "      <td>SQL</td>\n",
       "      <td>3468</td>\n",
       "      <td>2014</td>\n",
       "    </tr>\n",
       "    <tr>\n",
       "      <th>12</th>\n",
       "      <td>JavaScript</td>\n",
       "      <td>4736</td>\n",
       "      <td>2013</td>\n",
       "    </tr>\n",
       "    <tr>\n",
       "      <th>13</th>\n",
       "      <td>SQL</td>\n",
       "      <td>4594</td>\n",
       "      <td>2013</td>\n",
       "    </tr>\n",
       "    <tr>\n",
       "      <th>14</th>\n",
       "      <td>SQL</td>\n",
       "      <td>3295</td>\n",
       "      <td>2012</td>\n",
       "    </tr>\n",
       "    <tr>\n",
       "      <th>15</th>\n",
       "      <td>JavaScript</td>\n",
       "      <td>3128</td>\n",
       "      <td>2012</td>\n",
       "    </tr>\n",
       "    <tr>\n",
       "      <th>16</th>\n",
       "      <td>SQL</td>\n",
       "      <td>1614</td>\n",
       "      <td>2011</td>\n",
       "    </tr>\n",
       "    <tr>\n",
       "      <th>17</th>\n",
       "      <td>JavaScript</td>\n",
       "      <td>1420</td>\n",
       "      <td>2011</td>\n",
       "    </tr>\n",
       "  </tbody>\n",
       "</table>\n",
       "</div>"
      ],
      "text/plain": [
       "      Language  Count  Year\n",
       "0   JavaScript  59219  2019\n",
       "1     HTML/CSS  55466  2019\n",
       "2   JavaScript  54686  2018\n",
       "3     HTML/CSS  53628  2018\n",
       "4          SQL  18466  2017\n",
       "5   JavaScript  17159  2017\n",
       "6   JavaScript  22606  2016\n",
       "7          SQL  21664  2016\n",
       "8   JavaScript  11962  2015\n",
       "9          SQL   9439  2015\n",
       "10  JavaScript   3784  2014\n",
       "11         SQL   3468  2014\n",
       "12  JavaScript   4736  2013\n",
       "13         SQL   4594  2013\n",
       "14         SQL   3295  2012\n",
       "15  JavaScript   3128  2012\n",
       "16         SQL   1614  2011\n",
       "17  JavaScript   1420  2011"
      ]
     },
     "execution_count": 295,
     "metadata": {},
     "output_type": "execute_result"
    }
   ],
   "source": [
    "def clean_pop_lng(series,year):\n",
    "    l = series.fillna(\"Nil\").apply(lambda x : x.split(\";\")).to_list()\n",
    "    flat_list = [item for sublist in l for item in sublist]\n",
    "    df = pd.DataFrame(pd.Series(flat_list).value_counts().head(2),columns =[\"Count\"]).reset_index().rename(columns={\"index\":\"Language\"})\n",
    "    df.drop(df[df['Language'] == \"Nil\" ].index , inplace=True)\n",
    "    df[\"Year\"] = year\n",
    "    return (df)\n",
    "\n",
    "def clean_pop_lng2(dataframe,columns,year,passs =False):\n",
    "    df = pd.DataFrame(columns = [\"Count\"])\n",
    "    for col in columns:\n",
    "        if \"Current Lang & Tech:\" in col or passs ==True:\n",
    "            dict_lang = dataframe[col].value_counts().to_dict()\n",
    "            df.loc[list(dict_lang.keys())[0]] = dict_lang[list(dict_lang.keys())[0]]\n",
    "    df = df.sort_values(by = \"Count\" ,ascending =False).reset_index().rename(columns={\"index\":\"Language\"}) \n",
    "    df[\"Year\"] = year\n",
    "    return(df.head(2))\n",
    "\n",
    "def clean_pop_lng3(x):\n",
    "    if \"JavaScript\" in x:\n",
    "        return \"JavaScript\"\n",
    "    if \"Java\" in x:\n",
    "        return \"Java\"\n",
    "    if \"SQL\" in x:\n",
    "        return \"SQL\"\n",
    "    if \"HTML\" in x or \"CSS\" in x:\n",
    "        return \"HTML/CSS\"\n",
    "    else:\n",
    "        return x\n",
    "\n",
    "most_pop_lng_df = pd.DataFrame(columns=[\"Language\",\"Count\",\"Year\"])\n",
    "\n",
    "most_pop_lng_df = pd.concat([most_pop_lng_df,clean_pop_lng(data_2019.LanguageWorkedWith,2019)])\n",
    "most_pop_lng_df = pd.concat([most_pop_lng_df,clean_pop_lng(data_2018.LanguageWorkedWith,2018)])\n",
    "most_pop_lng_df = pd.concat([most_pop_lng_df,clean_pop_lng(data_2017.HaveWorkedLanguage,2017)])\n",
    "most_pop_lng_df = pd.concat([most_pop_lng_df,clean_pop_lng(data_2016.tech_do,2016)])\n",
    "most_pop_lng_df = pd.concat([most_pop_lng_df,clean_pop_lng2(data_2015,data_2015.columns,2015)])\n",
    "most_pop_lng_df = pd.concat([most_pop_lng_df,clean_pop_lng2(data_2014,data_2014.iloc[:,42:54].columns,2014,True)])\n",
    "most_pop_lng_df = pd.concat([most_pop_lng_df,clean_pop_lng2(data_2013,data_2013.iloc[:,56:69].columns,2013,True)])\n",
    "most_pop_lng_df = pd.concat([most_pop_lng_df,clean_pop_lng2(data_2012,data_2012.iloc[:,22:35].columns,2012,True)])\n",
    "most_pop_lng_df = pd.concat([most_pop_lng_df,clean_pop_lng2(data_2011,data_2011.iloc[:,30:41].columns,2011,True)])\n",
    "\n",
    "most_pop_lng_df.reset_index(drop =True,inplace =True)\n",
    "most_pop_lng_df.Language = most_pop_lng_df.Language.apply(clean_pop_lng3)\n",
    "most_pop_lng_df"
   ]
  },
  {
   "cell_type": "code",
   "execution_count": null,
   "metadata": {},
   "outputs": [],
   "source": [
    "most_pop_lng_df.groupby()"
   ]
  },
  {
   "cell_type": "code",
   "execution_count": 296,
   "metadata": {},
   "outputs": [
    {
     "data": {
      "image/png": "[encoded data removed]",
      "text/plain": [
       "<Figure size 1080x504 with 1 Axes>"
      ]
     },
     "metadata": {
      "needs_background": "light"
     },
     "output_type": "display_data"
    }
   ],
   "source": [
    "plt.figure(figsize =(15,7))\n",
    "sns.barplot(x =most_pop_lng_df.Year ,y =most_pop_lng_df.Count ,hue=most_pop_lng_df.Language )\n",
    "plt.show()"
   ]
  },
  {
   "cell_type": "code",
   "execution_count": null,
   "metadata": {},
   "outputs": [],
   "source": [
    "fig, ax = plt.subplots()"
   ]
  }
 ],
 "metadata": {
  "kernelspec": {
   "display_name": "Python 3",
   "language": "python",
   "name": "python3"
  },
  "language_info": {
   "codemirror_mode": {
    "name": "ipython",
    "version": 3
   },
   "file_extension": ".py",
   "mimetype": "text/x-python",
   "name": "python",
   "nbconvert_exporter": "python",
   "pygments_lexer": "ipython3",
   "version": "3.7.3"
  }
 },
 "nbformat": 4,
 "nbformat_minor": 2
}
